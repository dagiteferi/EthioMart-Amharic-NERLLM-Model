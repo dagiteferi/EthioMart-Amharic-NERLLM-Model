{
 "cells": [
  {
   "cell_type": "code",
   "execution_count": 1,
   "metadata": {},
   "outputs": [],
   "source": [
    "import numpy as np\n",
    "import pandas as pd\n",
    "import matplotlib.pyplot as plt\n",
    "import seaborn as sns\n",
    "import os \n",
    "import sys \n",
    "sys.path.append(os.path.abspath(os.path.join('..')))\n",
    "import scripts.preprocessing as p\n",
    "df = pd.read_csv('../data/telegram_data.csv')"
   ]
  },
  {
   "cell_type": "code",
   "execution_count": 2,
   "metadata": {},
   "outputs": [
    {
     "data": {
      "text/html": [
       "<div>\n",
       "<style scoped>\n",
       "    .dataframe tbody tr th:only-of-type {\n",
       "        vertical-align: middle;\n",
       "    }\n",
       "\n",
       "    .dataframe tbody tr th {\n",
       "        vertical-align: top;\n",
       "    }\n",
       "\n",
       "    .dataframe thead th {\n",
       "        text-align: right;\n",
       "    }\n",
       "</style>\n",
       "<table border=\"1\" class=\"dataframe\">\n",
       "  <thead>\n",
       "    <tr style=\"text-align: right;\">\n",
       "      <th></th>\n",
       "      <th>Channel Title</th>\n",
       "      <th>Channel Username</th>\n",
       "      <th>ID</th>\n",
       "      <th>Message</th>\n",
       "      <th>Date</th>\n",
       "      <th>Media Path</th>\n",
       "    </tr>\n",
       "  </thead>\n",
       "  <tbody>\n",
       "    <tr>\n",
       "      <th>0</th>\n",
       "      <td>ምርጥ ዕቃ</td>\n",
       "      <td>@MerttEka</td>\n",
       "      <td>7441</td>\n",
       "      <td>NaN</td>\n",
       "      <td>2025-01-15 05:13:17+00:00</td>\n",
       "      <td>photos\\@MerttEka_7441.jpg</td>\n",
       "    </tr>\n",
       "    <tr>\n",
       "      <th>1</th>\n",
       "      <td>ምርጥ ዕቃ</td>\n",
       "      <td>@MerttEka</td>\n",
       "      <td>7440</td>\n",
       "      <td>NaN</td>\n",
       "      <td>2025-01-15 05:13:17+00:00</td>\n",
       "      <td>photos\\@MerttEka_7440.jpg</td>\n",
       "    </tr>\n",
       "    <tr>\n",
       "      <th>2</th>\n",
       "      <td>ምርጥ ዕቃ</td>\n",
       "      <td>@MerttEka</td>\n",
       "      <td>7439</td>\n",
       "      <td>🔤🔤🔤 🔤🔤✅🔤🌹\\n\\n📣 Water proof Bed Cover\\n\\n✔️ ውሃ ...</td>\n",
       "      <td>2025-01-15 05:13:17+00:00</td>\n",
       "      <td>photos\\@MerttEka_7439.jpg</td>\n",
       "    </tr>\n",
       "    <tr>\n",
       "      <th>3</th>\n",
       "      <td>ምርጥ ዕቃ</td>\n",
       "      <td>@MerttEka</td>\n",
       "      <td>7437</td>\n",
       "      <td>📣 Ceramic Sausage/ Porridge Bowel\\n\\n✔️ ከሴራሚክ ...</td>\n",
       "      <td>2025-01-14 14:51:20+00:00</td>\n",
       "      <td>photos\\@MerttEka_7437.jpg</td>\n",
       "    </tr>\n",
       "    <tr>\n",
       "      <th>4</th>\n",
       "      <td>ምርጥ ዕቃ</td>\n",
       "      <td>@MerttEka</td>\n",
       "      <td>7436</td>\n",
       "      <td>NaN</td>\n",
       "      <td>2025-01-14 14:51:20+00:00</td>\n",
       "      <td>photos\\@MerttEka_7436.jpg</td>\n",
       "    </tr>\n",
       "  </tbody>\n",
       "</table>\n",
       "</div>"
      ],
      "text/plain": [
       "  Channel Title Channel Username    ID  \\\n",
       "0        ምርጥ ዕቃ        @MerttEka  7441   \n",
       "1        ምርጥ ዕቃ        @MerttEka  7440   \n",
       "2        ምርጥ ዕቃ        @MerttEka  7439   \n",
       "3        ምርጥ ዕቃ        @MerttEka  7437   \n",
       "4        ምርጥ ዕቃ        @MerttEka  7436   \n",
       "\n",
       "                                             Message  \\\n",
       "0                                                NaN   \n",
       "1                                                NaN   \n",
       "2  🔤🔤🔤 🔤🔤✅🔤🌹\\n\\n📣 Water proof Bed Cover\\n\\n✔️ ውሃ ...   \n",
       "3  📣 Ceramic Sausage/ Porridge Bowel\\n\\n✔️ ከሴራሚክ ...   \n",
       "4                                                NaN   \n",
       "\n",
       "                        Date                 Media Path  \n",
       "0  2025-01-15 05:13:17+00:00  photos\\@MerttEka_7441.jpg  \n",
       "1  2025-01-15 05:13:17+00:00  photos\\@MerttEka_7440.jpg  \n",
       "2  2025-01-15 05:13:17+00:00  photos\\@MerttEka_7439.jpg  \n",
       "3  2025-01-14 14:51:20+00:00  photos\\@MerttEka_7437.jpg  \n",
       "4  2025-01-14 14:51:20+00:00  photos\\@MerttEka_7436.jpg  "
      ]
     },
     "execution_count": 2,
     "metadata": {},
     "output_type": "execute_result"
    }
   ],
   "source": [
    "df.head()"
   ]
  },
  {
   "cell_type": "code",
   "execution_count": 3,
   "metadata": {},
   "outputs": [
    {
     "name": "stdout",
     "output_type": "stream",
     "text": [
      "Index(['Channel Title', 'Channel Username', 'ID', 'Message', 'Date',\n",
      "       'Media Path'],\n",
      "      dtype='object')\n"
     ]
    }
   ],
   "source": [
    "print(df.columns)"
   ]
  },
  {
   "cell_type": "code",
   "execution_count": 4,
   "metadata": {},
   "outputs": [
    {
     "data": {
      "text/plain": [
       "Channel Title       object\n",
       "Channel Username    object\n",
       "ID                   int64\n",
       "Message             object\n",
       "Date                object\n",
       "Media Path          object\n",
       "dtype: object"
      ]
     },
     "execution_count": 4,
     "metadata": {},
     "output_type": "execute_result"
    }
   ],
   "source": [
    "df.dtypes"
   ]
  },
  {
   "cell_type": "markdown",
   "metadata": {},
   "source": [
    "Data Quality "
   ]
  },
  {
   "cell_type": "code",
   "execution_count": 5,
   "metadata": {},
   "outputs": [
    {
     "name": "stdout",
     "output_type": "stream",
     "text": [
      "Numer of nan values in the df is                   Missing Values  % of Total Values Data Types\n",
      "Message                      434              47.23     object\n",
      "Media Path                   130              14.15     object\n",
      "Channel Username               0               0.00     object\n",
      "Channel Title                  0               0.00     object\n",
      "ID                             0               0.00      int64\n",
      "Date                           0               0.00     object\n"
     ]
    }
   ],
   "source": [
    "nan_counts = p.check_missing_values(df)\n",
    "print(f\"Numer of nan values in the df is {nan_counts}\")"
   ]
  },
  {
   "cell_type": "markdown",
   "metadata": {},
   "source": [
    "# percentage of missing values "
   ]
  },
  {
   "cell_type": "code",
   "execution_count": 6,
   "metadata": {},
   "outputs": [
    {
     "name": "stdout",
     "output_type": "stream",
     "text": [
      "The dataset has 10.23% missing values.\n"
     ]
    }
   ],
   "source": [
    "\n",
    "p.caculate_missing_percentage(df)"
   ]
  },
  {
   "cell_type": "code",
   "execution_count": 7,
   "metadata": {},
   "outputs": [
    {
     "name": "stdout",
     "output_type": "stream",
     "text": [
      "Numer of duplicate rows: 0\n"
     ]
    }
   ],
   "source": [
    "print(f\"Numer of duplicate rows: {df.duplicated().sum()}\")"
   ]
  },
  {
   "cell_type": "markdown",
   "metadata": {},
   "source": [
    " Missing values"
   ]
  },
  {
   "cell_type": "markdown",
   "metadata": {},
   "source": [
    "# Drop rows with missing values in the Message columns "
   ]
  },
  {
   "cell_type": "code",
   "execution_count": 8,
   "metadata": {},
   "outputs": [],
   "source": [
    "\n",
    "df = df.dropna(subset=['Message'])"
   ]
  },
  {
   "cell_type": "markdown",
   "metadata": {},
   "source": [
    "# confirm na is removed "
   ]
  },
  {
   "cell_type": "code",
   "execution_count": 9,
   "metadata": {},
   "outputs": [
    {
     "name": "stdout",
     "output_type": "stream",
     "text": [
      "Numer of NAN values in Message columns is 0\n"
     ]
    }
   ],
   "source": [
    "\n",
    "message_cleaned = df['Message'].isnull().sum()\n",
    "print(f\"Numer of NAN values in Message columns is {message_cleaned}\")"
   ]
  },
  {
   "cell_type": "code",
   "execution_count": 10,
   "metadata": {},
   "outputs": [
    {
     "name": "stdout",
     "output_type": "stream",
     "text": [
      "Data shape after droping the null values in the message column is (485, 6)\n"
     ]
    }
   ],
   "source": [
    "print(f\"Data shape after droping the null values in the message column is {df.shape}\")"
   ]
  },
  {
   "cell_type": "code",
   "execution_count": 11,
   "metadata": {},
   "outputs": [
    {
     "name": "stdout",
     "output_type": "stream",
     "text": [
      "   Channel Title Channel Username    ID  \\\n",
      "2         ምርጥ ዕቃ        @MerttEka  7439   \n",
      "3         ምርጥ ዕቃ        @MerttEka  7437   \n",
      "6         ምርጥ ዕቃ        @MerttEka  7434   \n",
      "9         ምርጥ ዕቃ        @MerttEka  7431   \n",
      "12        ምርጥ ዕቃ        @MerttEka  7428   \n",
      "\n",
      "                                              Message  \\\n",
      "2    \\n\\n    \\n\\n ውሃ የማያስገባ የፍራሽ ልብስ\\n\\n 1.20ሜ ..1...   \n",
      "3     /  \\n\\n ከሴራሚክ የተሰሩ የወጥ እና የገንፎ ሳህኖች\\n በጣም ኳሊ...   \n",
      "6        \\n የልብስ ማስጪያ\\nቦታ የማይፈጅ \\n የራሱ ጎማ ያለው\\n ለአ...   \n",
      "9       \\n\\n  ልብስ መተኮሻ\\n2200W ሃይል የሚጠቀም\\nልብስ የማያቃጥ...   \n",
      "12    \\n\\n የወይን፣ ኪኒቶ እና መሰል ፈሳሽ መጠጦች ማቅረቢያና መጠጫ\\n ...   \n",
      "\n",
      "                         Date                 Media Path  \n",
      "2   2025-01-15 05:13:17+00:00  photos\\@MerttEka_7439.jpg  \n",
      "3   2025-01-14 14:51:20+00:00  photos\\@MerttEka_7437.jpg  \n",
      "6   2025-01-14 08:29:45+00:00  photos\\@MerttEka_7434.jpg  \n",
      "9   2025-01-13 20:46:15+00:00  photos\\@MerttEka_7431.jpg  \n",
      "12  2025-01-11 13:44:48+00:00  photos\\@MerttEka_7428.jpg  \n"
     ]
    }
   ],
   "source": [
    "# Apply remove emoji function to the message column\n",
    "df['Message'] = df['Message'].apply(p.remove_emojis).apply(p.remove_english_words)\n",
    "\n",
    "# Display the cleaned dataframe \n",
    "print(df.head())"
   ]
  },
  {
   "cell_type": "code",
   "execution_count": 12,
   "metadata": {},
   "outputs": [],
   "source": [
    "# save the updated data to csv file \n",
    "df.to_csv('../data/cleaned_data.csv')"
   ]
  },
  {
   "cell_type": "code",
   "execution_count": 13,
   "metadata": {},
   "outputs": [
    {
     "data": {
      "text/html": [
       "<div>\n",
       "<style scoped>\n",
       "    .dataframe tbody tr th:only-of-type {\n",
       "        vertical-align: middle;\n",
       "    }\n",
       "\n",
       "    .dataframe tbody tr th {\n",
       "        vertical-align: top;\n",
       "    }\n",
       "\n",
       "    .dataframe thead th {\n",
       "        text-align: right;\n",
       "    }\n",
       "</style>\n",
       "<table border=\"1\" class=\"dataframe\">\n",
       "  <thead>\n",
       "    <tr style=\"text-align: right;\">\n",
       "      <th></th>\n",
       "      <th>Channel Title</th>\n",
       "      <th>Channel Username</th>\n",
       "      <th>ID</th>\n",
       "      <th>Message</th>\n",
       "      <th>Date</th>\n",
       "      <th>Media Path</th>\n",
       "    </tr>\n",
       "  </thead>\n",
       "  <tbody>\n",
       "    <tr>\n",
       "      <th>2</th>\n",
       "      <td>ምርጥ ዕቃ</td>\n",
       "      <td>@MerttEka</td>\n",
       "      <td>7439</td>\n",
       "      <td>\\n\\n    \\n\\n ውሃ የማያስገባ የፍራሽ ልብስ\\n\\n 1.20ሜ ..1...</td>\n",
       "      <td>2025-01-15 05:13:17+00:00</td>\n",
       "      <td>photos\\@MerttEka_7439.jpg</td>\n",
       "    </tr>\n",
       "    <tr>\n",
       "      <th>3</th>\n",
       "      <td>ምርጥ ዕቃ</td>\n",
       "      <td>@MerttEka</td>\n",
       "      <td>7437</td>\n",
       "      <td>/  \\n\\n ከሴራሚክ የተሰሩ የወጥ እና የገንፎ ሳህኖች\\n በጣም ኳሊ...</td>\n",
       "      <td>2025-01-14 14:51:20+00:00</td>\n",
       "      <td>photos\\@MerttEka_7437.jpg</td>\n",
       "    </tr>\n",
       "    <tr>\n",
       "      <th>6</th>\n",
       "      <td>ምርጥ ዕቃ</td>\n",
       "      <td>@MerttEka</td>\n",
       "      <td>7434</td>\n",
       "      <td>\\n የልብስ ማስጪያ\\nቦታ የማይፈጅ \\n የራሱ ጎማ ያለው\\n ለአ...</td>\n",
       "      <td>2025-01-14 08:29:45+00:00</td>\n",
       "      <td>photos\\@MerttEka_7434.jpg</td>\n",
       "    </tr>\n",
       "    <tr>\n",
       "      <th>9</th>\n",
       "      <td>ምርጥ ዕቃ</td>\n",
       "      <td>@MerttEka</td>\n",
       "      <td>7431</td>\n",
       "      <td>\\n\\n  ልብስ መተኮሻ\\n2200W ሃይል የሚጠቀም\\nልብስ የማያቃጥ...</td>\n",
       "      <td>2025-01-13 20:46:15+00:00</td>\n",
       "      <td>photos\\@MerttEka_7431.jpg</td>\n",
       "    </tr>\n",
       "    <tr>\n",
       "      <th>12</th>\n",
       "      <td>ምርጥ ዕቃ</td>\n",
       "      <td>@MerttEka</td>\n",
       "      <td>7428</td>\n",
       "      <td>\\n\\n የወይን፣ ኪኒቶ እና መሰል ፈሳሽ መጠጦች ማቅረቢያና መጠጫ\\n ...</td>\n",
       "      <td>2025-01-11 13:44:48+00:00</td>\n",
       "      <td>photos\\@MerttEka_7428.jpg</td>\n",
       "    </tr>\n",
       "    <tr>\n",
       "      <th>...</th>\n",
       "      <td>...</td>\n",
       "      <td>...</td>\n",
       "      <td>...</td>\n",
       "      <td>...</td>\n",
       "      <td>...</td>\n",
       "      <td>...</td>\n",
       "    </tr>\n",
       "    <tr>\n",
       "      <th>914</th>\n",
       "      <td>ምርጥ ዕቃ</td>\n",
       "      <td>@MerttEka</td>\n",
       "      <td>6431</td>\n",
       "      <td>\\n\\n ተጣጣፊ የላፕቶፕ ማስቀመጪያ\\n  ከብረት የተሰራ\\n የሚረዝም ...</td>\n",
       "      <td>2024-08-16 15:00:18+00:00</td>\n",
       "      <td>photos\\@MerttEka_6431.jpg</td>\n",
       "    </tr>\n",
       "    <tr>\n",
       "      <th>915</th>\n",
       "      <td>ምርጥ ዕቃ</td>\n",
       "      <td>@MerttEka</td>\n",
       "      <td>6430</td>\n",
       "      <td>\\n\\n ይሄንን ./  ተጭነው   ያድርጉ፣ ቤተሰብ</td>\n",
       "      <td>2024-08-16 10:56:43+00:00</td>\n",
       "      <td>NaN</td>\n",
       "    </tr>\n",
       "    <tr>\n",
       "      <th>916</th>\n",
       "      <td>ምርጥ ዕቃ</td>\n",
       "      <td>@MerttEka</td>\n",
       "      <td>6429</td>\n",
       "      <td>\\n\\n የመጥረጊያ መወልወያ እና ብሩሽ ማንጠልጠያ\\n ግድግዳ ላይ በቡ...</td>\n",
       "      <td>2024-08-16 10:56:28+00:00</td>\n",
       "      <td>photos\\@MerttEka_6429.jpg</td>\n",
       "    </tr>\n",
       "    <tr>\n",
       "      <th>917</th>\n",
       "      <td>ምርጥ ዕቃ</td>\n",
       "      <td>@MerttEka</td>\n",
       "      <td>6428</td>\n",
       "      <td>\\n\\nውሃ የማያስገባ\\n ብዙ ኪስ ስላለው በርካታ ዕቃ/ልብስ ይይዙበ...</td>\n",
       "      <td>2024-08-16 06:01:13+00:00</td>\n",
       "      <td>NaN</td>\n",
       "    </tr>\n",
       "    <tr>\n",
       "      <th>918</th>\n",
       "      <td>ምርጥ ዕቃ</td>\n",
       "      <td>@MerttEka</td>\n",
       "      <td>6427</td>\n",
       "      <td>\\n\\n የእናቶች ጡት ጫፍ መሸፈኛ \\n ለሚያጠቡ እናቶች የሚያስፈልግ\\...</td>\n",
       "      <td>2024-08-15 15:40:38+00:00</td>\n",
       "      <td>photos\\@MerttEka_6427.jpg</td>\n",
       "    </tr>\n",
       "  </tbody>\n",
       "</table>\n",
       "<p>485 rows × 6 columns</p>\n",
       "</div>"
      ],
      "text/plain": [
       "    Channel Title Channel Username    ID  \\\n",
       "2          ምርጥ ዕቃ        @MerttEka  7439   \n",
       "3          ምርጥ ዕቃ        @MerttEka  7437   \n",
       "6          ምርጥ ዕቃ        @MerttEka  7434   \n",
       "9          ምርጥ ዕቃ        @MerttEka  7431   \n",
       "12         ምርጥ ዕቃ        @MerttEka  7428   \n",
       "..            ...              ...   ...   \n",
       "914        ምርጥ ዕቃ        @MerttEka  6431   \n",
       "915        ምርጥ ዕቃ        @MerttEka  6430   \n",
       "916        ምርጥ ዕቃ        @MerttEka  6429   \n",
       "917        ምርጥ ዕቃ        @MerttEka  6428   \n",
       "918        ምርጥ ዕቃ        @MerttEka  6427   \n",
       "\n",
       "                                               Message  \\\n",
       "2     \\n\\n    \\n\\n ውሃ የማያስገባ የፍራሽ ልብስ\\n\\n 1.20ሜ ..1...   \n",
       "3      /  \\n\\n ከሴራሚክ የተሰሩ የወጥ እና የገንፎ ሳህኖች\\n በጣም ኳሊ...   \n",
       "6         \\n የልብስ ማስጪያ\\nቦታ የማይፈጅ \\n የራሱ ጎማ ያለው\\n ለአ...   \n",
       "9        \\n\\n  ልብስ መተኮሻ\\n2200W ሃይል የሚጠቀም\\nልብስ የማያቃጥ...   \n",
       "12     \\n\\n የወይን፣ ኪኒቶ እና መሰል ፈሳሽ መጠጦች ማቅረቢያና መጠጫ\\n ...   \n",
       "..                                                 ...   \n",
       "914    \\n\\n ተጣጣፊ የላፕቶፕ ማስቀመጪያ\\n  ከብረት የተሰራ\\n የሚረዝም ...   \n",
       "915                    \\n\\n ይሄንን ./  ተጭነው   ያድርጉ፣ ቤተሰብ   \n",
       "916    \\n\\n የመጥረጊያ መወልወያ እና ብሩሽ ማንጠልጠያ\\n ግድግዳ ላይ በቡ...   \n",
       "917     \\n\\nውሃ የማያስገባ\\n ብዙ ኪስ ስላለው በርካታ ዕቃ/ልብስ ይይዙበ...   \n",
       "918    \\n\\n የእናቶች ጡት ጫፍ መሸፈኛ \\n ለሚያጠቡ እናቶች የሚያስፈልግ\\...   \n",
       "\n",
       "                          Date                 Media Path  \n",
       "2    2025-01-15 05:13:17+00:00  photos\\@MerttEka_7439.jpg  \n",
       "3    2025-01-14 14:51:20+00:00  photos\\@MerttEka_7437.jpg  \n",
       "6    2025-01-14 08:29:45+00:00  photos\\@MerttEka_7434.jpg  \n",
       "9    2025-01-13 20:46:15+00:00  photos\\@MerttEka_7431.jpg  \n",
       "12   2025-01-11 13:44:48+00:00  photos\\@MerttEka_7428.jpg  \n",
       "..                         ...                        ...  \n",
       "914  2024-08-16 15:00:18+00:00  photos\\@MerttEka_6431.jpg  \n",
       "915  2024-08-16 10:56:43+00:00                        NaN  \n",
       "916  2024-08-16 10:56:28+00:00  photos\\@MerttEka_6429.jpg  \n",
       "917  2024-08-16 06:01:13+00:00                        NaN  \n",
       "918  2024-08-15 15:40:38+00:00  photos\\@MerttEka_6427.jpg  \n",
       "\n",
       "[485 rows x 6 columns]"
      ]
     },
     "execution_count": 13,
     "metadata": {},
     "output_type": "execute_result"
    }
   ],
   "source": [
    "df"
   ]
  },
  {
   "cell_type": "code",
   "execution_count": 14,
   "metadata": {},
   "outputs": [
    {
     "data": {
      "text/plain": [
       "2      \\n\\n    \\n\\n ውሃ የማያስገባ የፍራሽ ልብስ\\n\\n 1.20ሜ ..1...\n",
       "3       /  \\n\\n ከሴራሚክ የተሰሩ የወጥ እና የገንፎ ሳህኖች\\n በጣም ኳሊ...\n",
       "6          \\n የልብስ ማስጪያ\\nቦታ የማይፈጅ \\n የራሱ ጎማ ያለው\\n ለአ...\n",
       "9         \\n\\n  ልብስ መተኮሻ\\n2200W ሃይል የሚጠቀም\\nልብስ የማያቃጥ...\n",
       "12      \\n\\n የወይን፣ ኪኒቶ እና መሰል ፈሳሽ መጠጦች ማቅረቢያና መጠጫ\\n ...\n",
       "Name: Message, dtype: object"
      ]
     },
     "execution_count": 14,
     "metadata": {},
     "output_type": "execute_result"
    }
   ],
   "source": [
    "df['Message'].head()"
   ]
  }
 ],
 "metadata": {
  "kernelspec": {
   "display_name": "week-5",
   "language": "python",
   "name": "python3"
  },
  "language_info": {
   "codemirror_mode": {
    "name": "ipython",
    "version": 3
   },
   "file_extension": ".py",
   "mimetype": "text/x-python",
   "name": "python",
   "nbconvert_exporter": "python",
   "pygments_lexer": "ipython3",
   "version": "3.12.5"
  }
 },
 "nbformat": 4,
 "nbformat_minor": 2
}
